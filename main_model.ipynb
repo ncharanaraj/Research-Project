{
 "cells": [
  {
   "cell_type": "markdown",
   "metadata": {},
   "source": [
    "# import lib"
   ]
  },
  {
   "cell_type": "code",
   "execution_count": 1,
   "metadata": {},
   "outputs": [],
   "source": [
    "import numpy as np\n",
    "import pandas as pd\n",
    "import matplotlib.pyplot as plt\n",
    "import seaborn as sns\n",
    "%matplotlib inline"
   ]
  },
  {
   "cell_type": "markdown",
   "metadata": {},
   "source": [
    "# load dataset"
   ]
  },
  {
   "cell_type": "code",
   "execution_count": 2,
   "metadata": {},
   "outputs": [],
   "source": [
    "st_data= pd.read_excel('input/data.xlsx')"
   ]
  },
  {
   "cell_type": "code",
   "execution_count": 3,
   "metadata": {},
   "outputs": [
    {
     "data": {
      "text/html": [
       "<div>\n",
       "<style scoped>\n",
       "    .dataframe tbody tr th:only-of-type {\n",
       "        vertical-align: middle;\n",
       "    }\n",
       "\n",
       "    .dataframe tbody tr th {\n",
       "        vertical-align: top;\n",
       "    }\n",
       "\n",
       "    .dataframe thead th {\n",
       "        text-align: right;\n",
       "    }\n",
       "</style>\n",
       "<table border=\"1\" class=\"dataframe\">\n",
       "  <thead>\n",
       "    <tr style=\"text-align: right;\">\n",
       "      <th></th>\n",
       "      <th>Subject1</th>\n",
       "      <th>Subject2</th>\n",
       "      <th>Subject3</th>\n",
       "      <th>Subject4</th>\n",
       "      <th>Subject5</th>\n",
       "      <th>Subject6</th>\n",
       "      <th>Subject7</th>\n",
       "      <th>Subject8</th>\n",
       "      <th>Subject9</th>\n",
       "      <th>Aptitute Test</th>\n",
       "      <th>Technical Skills</th>\n",
       "      <th>English Skills</th>\n",
       "      <th>olympiads</th>\n",
       "      <th>reading and writing skills</th>\n",
       "      <th>memory capability score</th>\n",
       "      <th>Suggested Job Role</th>\n",
       "      <th>Placed College / Degree</th>\n",
       "    </tr>\n",
       "  </thead>\n",
       "  <tbody>\n",
       "    <tr>\n",
       "      <th>0</th>\n",
       "      <td>69</td>\n",
       "      <td>63</td>\n",
       "      <td>78</td>\n",
       "      <td>87</td>\n",
       "      <td>94</td>\n",
       "      <td>94</td>\n",
       "      <td>87</td>\n",
       "      <td>84</td>\n",
       "      <td>61</td>\n",
       "      <td>4</td>\n",
       "      <td>4</td>\n",
       "      <td>8</td>\n",
       "      <td>yes</td>\n",
       "      <td>excellent</td>\n",
       "      <td>excellent</td>\n",
       "      <td>Database Developer</td>\n",
       "      <td>IIT Chennai Automobile</td>\n",
       "    </tr>\n",
       "    <tr>\n",
       "      <th>1</th>\n",
       "      <td>78</td>\n",
       "      <td>62</td>\n",
       "      <td>73</td>\n",
       "      <td>60</td>\n",
       "      <td>71</td>\n",
       "      <td>70</td>\n",
       "      <td>73</td>\n",
       "      <td>84</td>\n",
       "      <td>91</td>\n",
       "      <td>7</td>\n",
       "      <td>2</td>\n",
       "      <td>3</td>\n",
       "      <td>no</td>\n",
       "      <td>poor</td>\n",
       "      <td>medium</td>\n",
       "      <td>Portal Administrator</td>\n",
       "      <td>IIT Kharagpur EEE</td>\n",
       "    </tr>\n",
       "    <tr>\n",
       "      <th>2</th>\n",
       "      <td>71</td>\n",
       "      <td>86</td>\n",
       "      <td>91</td>\n",
       "      <td>87</td>\n",
       "      <td>61</td>\n",
       "      <td>81</td>\n",
       "      <td>72</td>\n",
       "      <td>72</td>\n",
       "      <td>94</td>\n",
       "      <td>1</td>\n",
       "      <td>1</td>\n",
       "      <td>3</td>\n",
       "      <td>yes</td>\n",
       "      <td>poor</td>\n",
       "      <td>excellent</td>\n",
       "      <td>Portal Administrator</td>\n",
       "      <td>IIT Kharagpur EEE</td>\n",
       "    </tr>\n",
       "    <tr>\n",
       "      <th>3</th>\n",
       "      <td>76</td>\n",
       "      <td>87</td>\n",
       "      <td>60</td>\n",
       "      <td>84</td>\n",
       "      <td>89</td>\n",
       "      <td>73</td>\n",
       "      <td>62</td>\n",
       "      <td>88</td>\n",
       "      <td>69</td>\n",
       "      <td>1</td>\n",
       "      <td>2</td>\n",
       "      <td>5</td>\n",
       "      <td>no</td>\n",
       "      <td>medium</td>\n",
       "      <td>excellent</td>\n",
       "      <td>Systems Security Administrator</td>\n",
       "      <td>IIT Delhi Civil</td>\n",
       "    </tr>\n",
       "    <tr>\n",
       "      <th>4</th>\n",
       "      <td>92</td>\n",
       "      <td>62</td>\n",
       "      <td>90</td>\n",
       "      <td>67</td>\n",
       "      <td>71</td>\n",
       "      <td>89</td>\n",
       "      <td>73</td>\n",
       "      <td>71</td>\n",
       "      <td>73</td>\n",
       "      <td>5</td>\n",
       "      <td>6</td>\n",
       "      <td>3</td>\n",
       "      <td>no</td>\n",
       "      <td>poor</td>\n",
       "      <td>excellent</td>\n",
       "      <td>Business Systems Analyst</td>\n",
       "      <td>IIT Chennai EEE</td>\n",
       "    </tr>\n",
       "  </tbody>\n",
       "</table>\n",
       "</div>"
      ],
      "text/plain": [
       "   Subject1  Subject2  Subject3  Subject4  Subject5  Subject6  Subject7  \\\n",
       "0        69        63        78        87        94        94        87   \n",
       "1        78        62        73        60        71        70        73   \n",
       "2        71        86        91        87        61        81        72   \n",
       "3        76        87        60        84        89        73        62   \n",
       "4        92        62        90        67        71        89        73   \n",
       "\n",
       "   Subject8  Subject9  Aptitute Test  Technical Skills  English Skills  \\\n",
       "0        84        61              4                 4               8   \n",
       "1        84        91              7                 2               3   \n",
       "2        72        94              1                 1               3   \n",
       "3        88        69              1                 2               5   \n",
       "4        71        73              5                 6               3   \n",
       "\n",
       "  olympiads reading and writing skills memory capability score  \\\n",
       "0       yes                  excellent               excellent   \n",
       "1        no                       poor                  medium   \n",
       "2       yes                       poor               excellent   \n",
       "3        no                     medium               excellent   \n",
       "4        no                       poor               excellent   \n",
       "\n",
       "               Suggested Job Role Placed College / Degree  \n",
       "0              Database Developer  IIT Chennai Automobile  \n",
       "1            Portal Administrator       IIT Kharagpur EEE  \n",
       "2            Portal Administrator       IIT Kharagpur EEE  \n",
       "3  Systems Security Administrator         IIT Delhi Civil  \n",
       "4        Business Systems Analyst         IIT Chennai EEE  "
      ]
     },
     "execution_count": 3,
     "metadata": {},
     "output_type": "execute_result"
    }
   ],
   "source": [
    "st_data.head()"
   ]
  },
  {
   "cell_type": "code",
   "execution_count": 4,
   "metadata": {},
   "outputs": [
    {
     "data": {
      "text/plain": [
       "(20000, 17)"
      ]
     },
     "execution_count": 4,
     "metadata": {},
     "output_type": "execute_result"
    }
   ],
   "source": [
    "st_data.shape"
   ]
  },
  {
   "cell_type": "code",
   "execution_count": 5,
   "metadata": {},
   "outputs": [
    {
     "data": {
      "text/plain": [
       "Index(['Subject1', 'Subject2', 'Subject3', 'Subject4', 'Subject5', 'Subject6',\n",
       "       'Subject7', 'Subject8', 'Subject9', 'Aptitute Test', 'Technical Skills',\n",
       "       'English Skills', 'olympiads', 'reading and writing skills',\n",
       "       'memory capability score', 'Suggested Job Role',\n",
       "       'Placed College / Degree'],\n",
       "      dtype='object')"
      ]
     },
     "execution_count": 5,
     "metadata": {},
     "output_type": "execute_result"
    }
   ],
   "source": [
    "st_data.columns"
   ]
  },
  {
   "cell_type": "markdown",
   "metadata": {},
   "source": [
    "# data preprocessing"
   ]
  },
  {
   "cell_type": "code",
   "execution_count": 6,
   "metadata": {},
   "outputs": [
    {
     "data": {
      "text/plain": [
       "array(['yes', 'no'], dtype=object)"
      ]
     },
     "execution_count": 6,
     "metadata": {},
     "output_type": "execute_result"
    }
   ],
   "source": [
    "st_data['olympiads'].unique()"
   ]
  },
  {
   "cell_type": "code",
   "execution_count": 7,
   "metadata": {},
   "outputs": [],
   "source": [
    "st_data['olympiads'].replace('no',0,inplace=True)\n",
    "st_data['olympiads'].replace('yes',1,inplace=True)"
   ]
  },
  {
   "cell_type": "code",
   "execution_count": 8,
   "metadata": {},
   "outputs": [
    {
     "data": {
      "text/plain": [
       "array(['excellent', 'poor', 'medium'], dtype=object)"
      ]
     },
     "execution_count": 8,
     "metadata": {},
     "output_type": "execute_result"
    }
   ],
   "source": [
    "st_data['reading and writing skills'].unique()"
   ]
  },
  {
   "cell_type": "code",
   "execution_count": 9,
   "metadata": {},
   "outputs": [],
   "source": [
    "st_data['reading and writing skills'].replace('poor',0,inplace=True)\n",
    "st_data['reading and writing skills'].replace('medium',1,inplace=True)\n",
    "st_data['reading and writing skills'].replace('excellent',2,inplace=True)"
   ]
  },
  {
   "cell_type": "code",
   "execution_count": 10,
   "metadata": {},
   "outputs": [
    {
     "data": {
      "text/plain": [
       "array(['excellent', 'medium', 'poor'], dtype=object)"
      ]
     },
     "execution_count": 10,
     "metadata": {},
     "output_type": "execute_result"
    }
   ],
   "source": [
    "st_data['memory capability score'].unique()"
   ]
  },
  {
   "cell_type": "code",
   "execution_count": 11,
   "metadata": {},
   "outputs": [],
   "source": [
    "st_data['memory capability score'].replace('poor',0,inplace=True)\n",
    "st_data['memory capability score'].replace('medium',1,inplace=True)\n",
    "st_data['memory capability score'].replace('excellent',2,inplace=True)"
   ]
  },
  {
   "cell_type": "code",
   "execution_count": null,
   "metadata": {},
   "outputs": [],
   "source": [
    "st_data['Suggested Job Role'].unique()"
   ]
  },
  {
   "cell_type": "code",
   "execution_count": 12,
   "metadata": {},
   "outputs": [],
   "source": [
    "n = st_data['Suggested Job Role'].unique()"
   ]
  },
  {
   "cell_type": "code",
   "execution_count": 13,
   "metadata": {},
   "outputs": [],
   "source": [
    "j = 0\n",
    "for i in n:\n",
    "    st_data['Suggested Job Role'].replace(i,j,inplace=True)\n",
    "    j += 1"
   ]
  },
  {
   "cell_type": "code",
   "execution_count": 14,
   "metadata": {},
   "outputs": [],
   "source": [
    "n = st_data['Placed College / Degree'].unique()"
   ]
  },
  {
   "cell_type": "code",
   "execution_count": 15,
   "metadata": {},
   "outputs": [],
   "source": [
    "j = 0\n",
    "for i in n:\n",
    "    st_data['Placed College / Degree'].replace(i,j,inplace=True)\n",
    "    j += 1"
   ]
  },
  {
   "cell_type": "code",
   "execution_count": 16,
   "metadata": {},
   "outputs": [
    {
     "data": {
      "text/html": [
       "<div>\n",
       "<style scoped>\n",
       "    .dataframe tbody tr th:only-of-type {\n",
       "        vertical-align: middle;\n",
       "    }\n",
       "\n",
       "    .dataframe tbody tr th {\n",
       "        vertical-align: top;\n",
       "    }\n",
       "\n",
       "    .dataframe thead th {\n",
       "        text-align: right;\n",
       "    }\n",
       "</style>\n",
       "<table border=\"1\" class=\"dataframe\">\n",
       "  <thead>\n",
       "    <tr style=\"text-align: right;\">\n",
       "      <th></th>\n",
       "      <th>Subject1</th>\n",
       "      <th>Subject2</th>\n",
       "      <th>Subject3</th>\n",
       "      <th>Subject4</th>\n",
       "      <th>Subject5</th>\n",
       "      <th>Subject6</th>\n",
       "      <th>Subject7</th>\n",
       "      <th>Subject8</th>\n",
       "      <th>Subject9</th>\n",
       "      <th>Aptitute Test</th>\n",
       "      <th>Technical Skills</th>\n",
       "      <th>English Skills</th>\n",
       "      <th>olympiads</th>\n",
       "      <th>reading and writing skills</th>\n",
       "      <th>memory capability score</th>\n",
       "      <th>Suggested Job Role</th>\n",
       "      <th>Placed College / Degree</th>\n",
       "    </tr>\n",
       "  </thead>\n",
       "  <tbody>\n",
       "    <tr>\n",
       "      <th>0</th>\n",
       "      <td>69</td>\n",
       "      <td>63</td>\n",
       "      <td>78</td>\n",
       "      <td>87</td>\n",
       "      <td>94</td>\n",
       "      <td>94</td>\n",
       "      <td>87</td>\n",
       "      <td>84</td>\n",
       "      <td>61</td>\n",
       "      <td>4</td>\n",
       "      <td>4</td>\n",
       "      <td>8</td>\n",
       "      <td>1</td>\n",
       "      <td>2</td>\n",
       "      <td>2</td>\n",
       "      <td>0</td>\n",
       "      <td>0</td>\n",
       "    </tr>\n",
       "    <tr>\n",
       "      <th>1</th>\n",
       "      <td>78</td>\n",
       "      <td>62</td>\n",
       "      <td>73</td>\n",
       "      <td>60</td>\n",
       "      <td>71</td>\n",
       "      <td>70</td>\n",
       "      <td>73</td>\n",
       "      <td>84</td>\n",
       "      <td>91</td>\n",
       "      <td>7</td>\n",
       "      <td>2</td>\n",
       "      <td>3</td>\n",
       "      <td>0</td>\n",
       "      <td>0</td>\n",
       "      <td>1</td>\n",
       "      <td>1</td>\n",
       "      <td>1</td>\n",
       "    </tr>\n",
       "    <tr>\n",
       "      <th>2</th>\n",
       "      <td>71</td>\n",
       "      <td>86</td>\n",
       "      <td>91</td>\n",
       "      <td>87</td>\n",
       "      <td>61</td>\n",
       "      <td>81</td>\n",
       "      <td>72</td>\n",
       "      <td>72</td>\n",
       "      <td>94</td>\n",
       "      <td>1</td>\n",
       "      <td>1</td>\n",
       "      <td>3</td>\n",
       "      <td>1</td>\n",
       "      <td>0</td>\n",
       "      <td>2</td>\n",
       "      <td>1</td>\n",
       "      <td>1</td>\n",
       "    </tr>\n",
       "    <tr>\n",
       "      <th>3</th>\n",
       "      <td>76</td>\n",
       "      <td>87</td>\n",
       "      <td>60</td>\n",
       "      <td>84</td>\n",
       "      <td>89</td>\n",
       "      <td>73</td>\n",
       "      <td>62</td>\n",
       "      <td>88</td>\n",
       "      <td>69</td>\n",
       "      <td>1</td>\n",
       "      <td>2</td>\n",
       "      <td>5</td>\n",
       "      <td>0</td>\n",
       "      <td>1</td>\n",
       "      <td>2</td>\n",
       "      <td>2</td>\n",
       "      <td>2</td>\n",
       "    </tr>\n",
       "    <tr>\n",
       "      <th>4</th>\n",
       "      <td>92</td>\n",
       "      <td>62</td>\n",
       "      <td>90</td>\n",
       "      <td>67</td>\n",
       "      <td>71</td>\n",
       "      <td>89</td>\n",
       "      <td>73</td>\n",
       "      <td>71</td>\n",
       "      <td>73</td>\n",
       "      <td>5</td>\n",
       "      <td>6</td>\n",
       "      <td>3</td>\n",
       "      <td>0</td>\n",
       "      <td>0</td>\n",
       "      <td>2</td>\n",
       "      <td>3</td>\n",
       "      <td>3</td>\n",
       "    </tr>\n",
       "  </tbody>\n",
       "</table>\n",
       "</div>"
      ],
      "text/plain": [
       "   Subject1  Subject2  Subject3  Subject4  Subject5  Subject6  Subject7  \\\n",
       "0        69        63        78        87        94        94        87   \n",
       "1        78        62        73        60        71        70        73   \n",
       "2        71        86        91        87        61        81        72   \n",
       "3        76        87        60        84        89        73        62   \n",
       "4        92        62        90        67        71        89        73   \n",
       "\n",
       "   Subject8  Subject9  Aptitute Test  Technical Skills  English Skills  \\\n",
       "0        84        61              4                 4               8   \n",
       "1        84        91              7                 2               3   \n",
       "2        72        94              1                 1               3   \n",
       "3        88        69              1                 2               5   \n",
       "4        71        73              5                 6               3   \n",
       "\n",
       "   olympiads  reading and writing skills  memory capability score  \\\n",
       "0          1                           2                        2   \n",
       "1          0                           0                        1   \n",
       "2          1                           0                        2   \n",
       "3          0                           1                        2   \n",
       "4          0                           0                        2   \n",
       "\n",
       "   Suggested Job Role  Placed College / Degree  \n",
       "0                   0                        0  \n",
       "1                   1                        1  \n",
       "2                   1                        1  \n",
       "3                   2                        2  \n",
       "4                   3                        3  "
      ]
     },
     "execution_count": 16,
     "metadata": {},
     "output_type": "execute_result"
    }
   ],
   "source": [
    "st_data.head()"
   ]
  },
  {
   "cell_type": "markdown",
   "metadata": {},
   "source": [
    "# data analysis"
   ]
  },
  {
   "cell_type": "code",
   "execution_count": 17,
   "metadata": {
    "scrolled": false
   },
   "outputs": [
    {
     "data": {
      "text/plain": [
       "<matplotlib.axes._subplots.AxesSubplot at 0x2297c09a470>"
      ]
     },
     "execution_count": 17,
     "metadata": {},
     "output_type": "execute_result"
    },
    {
     "data": {
      "image/png": "[encoded data removed]",
      "text/plain": [
       "<Figure size 1500x700 with 1 Axes>"
      ]
     },
     "metadata": {
      "needs_background": "light"
     },
     "output_type": "display_data"
    }
   ],
   "source": [
    "plt.figure(figsize=(15,7), dpi=100)\n",
    "sns.countplot(x='Aptitute Test',hue='Placed College / Degree',data=st_data, palette='Set1')"
   ]
  },
  {
   "cell_type": "code",
   "execution_count": 18,
   "metadata": {},
   "outputs": [
    {
     "data": {
      "text/plain": [
       "<matplotlib.axes._subplots.AxesSubplot at 0x22977bf21d0>"
      ]
     },
     "execution_count": 18,
     "metadata": {},
     "output_type": "execute_result"
    },
    {
     "data": {
      "image/png": "[encoded data removed]",
      "text/plain": [
       "<Figure size 1500x700 with 1 Axes>"
      ]
     },
     "metadata": {
      "needs_background": "light"
     },
     "output_type": "display_data"
    }
   ],
   "source": [
    "plt.figure(figsize=(15,7), dpi=100)\n",
    "sns.countplot(x='olympiads',hue='Placed College / Degree',data=st_data, palette='Set1')"
   ]
  },
  {
   "cell_type": "markdown",
   "metadata": {},
   "source": [
    "# split the data into train and test"
   ]
  },
  {
   "cell_type": "code",
   "execution_count": 19,
   "metadata": {},
   "outputs": [],
   "source": [
    "from sklearn.model_selection import train_test_split"
   ]
  },
  {
   "cell_type": "code",
   "execution_count": 20,
   "metadata": {},
   "outputs": [
    {
     "data": {
      "text/html": [
       "<div>\n",
       "<style scoped>\n",
       "    .dataframe tbody tr th:only-of-type {\n",
       "        vertical-align: middle;\n",
       "    }\n",
       "\n",
       "    .dataframe tbody tr th {\n",
       "        vertical-align: top;\n",
       "    }\n",
       "\n",
       "    .dataframe thead th {\n",
       "        text-align: right;\n",
       "    }\n",
       "</style>\n",
       "<table border=\"1\" class=\"dataframe\">\n",
       "  <thead>\n",
       "    <tr style=\"text-align: right;\">\n",
       "      <th></th>\n",
       "      <th>Subject1</th>\n",
       "      <th>Subject2</th>\n",
       "      <th>Subject3</th>\n",
       "      <th>Subject4</th>\n",
       "      <th>Subject5</th>\n",
       "      <th>Subject6</th>\n",
       "      <th>Subject7</th>\n",
       "      <th>Subject8</th>\n",
       "      <th>Subject9</th>\n",
       "      <th>Aptitute Test</th>\n",
       "      <th>Technical Skills</th>\n",
       "      <th>English Skills</th>\n",
       "      <th>olympiads</th>\n",
       "      <th>reading and writing skills</th>\n",
       "      <th>memory capability score</th>\n",
       "      <th>Suggested Job Role</th>\n",
       "    </tr>\n",
       "  </thead>\n",
       "  <tbody>\n",
       "    <tr>\n",
       "      <th>443</th>\n",
       "      <td>71</td>\n",
       "      <td>79</td>\n",
       "      <td>69</td>\n",
       "      <td>89</td>\n",
       "      <td>62</td>\n",
       "      <td>92</td>\n",
       "      <td>62</td>\n",
       "      <td>89</td>\n",
       "      <td>79</td>\n",
       "      <td>3</td>\n",
       "      <td>6</td>\n",
       "      <td>3</td>\n",
       "      <td>1</td>\n",
       "      <td>0</td>\n",
       "      <td>0</td>\n",
       "      <td>5</td>\n",
       "    </tr>\n",
       "    <tr>\n",
       "      <th>10301</th>\n",
       "      <td>63</td>\n",
       "      <td>86</td>\n",
       "      <td>66</td>\n",
       "      <td>69</td>\n",
       "      <td>86</td>\n",
       "      <td>91</td>\n",
       "      <td>71</td>\n",
       "      <td>69</td>\n",
       "      <td>76</td>\n",
       "      <td>3</td>\n",
       "      <td>8</td>\n",
       "      <td>9</td>\n",
       "      <td>1</td>\n",
       "      <td>1</td>\n",
       "      <td>1</td>\n",
       "      <td>23</td>\n",
       "    </tr>\n",
       "    <tr>\n",
       "      <th>10094</th>\n",
       "      <td>86</td>\n",
       "      <td>90</td>\n",
       "      <td>72</td>\n",
       "      <td>73</td>\n",
       "      <td>91</td>\n",
       "      <td>60</td>\n",
       "      <td>90</td>\n",
       "      <td>82</td>\n",
       "      <td>64</td>\n",
       "      <td>9</td>\n",
       "      <td>8</td>\n",
       "      <td>7</td>\n",
       "      <td>1</td>\n",
       "      <td>2</td>\n",
       "      <td>0</td>\n",
       "      <td>24</td>\n",
       "    </tr>\n",
       "    <tr>\n",
       "      <th>10849</th>\n",
       "      <td>86</td>\n",
       "      <td>77</td>\n",
       "      <td>90</td>\n",
       "      <td>88</td>\n",
       "      <td>69</td>\n",
       "      <td>90</td>\n",
       "      <td>83</td>\n",
       "      <td>92</td>\n",
       "      <td>80</td>\n",
       "      <td>9</td>\n",
       "      <td>6</td>\n",
       "      <td>3</td>\n",
       "      <td>1</td>\n",
       "      <td>0</td>\n",
       "      <td>2</td>\n",
       "      <td>24</td>\n",
       "    </tr>\n",
       "    <tr>\n",
       "      <th>2279</th>\n",
       "      <td>93</td>\n",
       "      <td>81</td>\n",
       "      <td>72</td>\n",
       "      <td>84</td>\n",
       "      <td>90</td>\n",
       "      <td>93</td>\n",
       "      <td>73</td>\n",
       "      <td>85</td>\n",
       "      <td>72</td>\n",
       "      <td>7</td>\n",
       "      <td>8</td>\n",
       "      <td>8</td>\n",
       "      <td>1</td>\n",
       "      <td>2</td>\n",
       "      <td>0</td>\n",
       "      <td>11</td>\n",
       "    </tr>\n",
       "    <tr>\n",
       "      <th>2359</th>\n",
       "      <td>72</td>\n",
       "      <td>83</td>\n",
       "      <td>70</td>\n",
       "      <td>69</td>\n",
       "      <td>61</td>\n",
       "      <td>83</td>\n",
       "      <td>73</td>\n",
       "      <td>83</td>\n",
       "      <td>91</td>\n",
       "      <td>2</td>\n",
       "      <td>7</td>\n",
       "      <td>5</td>\n",
       "      <td>0</td>\n",
       "      <td>0</td>\n",
       "      <td>2</td>\n",
       "      <td>20</td>\n",
       "    </tr>\n",
       "    <tr>\n",
       "      <th>19753</th>\n",
       "      <td>70</td>\n",
       "      <td>91</td>\n",
       "      <td>63</td>\n",
       "      <td>82</td>\n",
       "      <td>71</td>\n",
       "      <td>68</td>\n",
       "      <td>73</td>\n",
       "      <td>63</td>\n",
       "      <td>60</td>\n",
       "      <td>2</td>\n",
       "      <td>5</td>\n",
       "      <td>8</td>\n",
       "      <td>0</td>\n",
       "      <td>2</td>\n",
       "      <td>2</td>\n",
       "      <td>3</td>\n",
       "    </tr>\n",
       "    <tr>\n",
       "      <th>13394</th>\n",
       "      <td>79</td>\n",
       "      <td>60</td>\n",
       "      <td>79</td>\n",
       "      <td>73</td>\n",
       "      <td>78</td>\n",
       "      <td>87</td>\n",
       "      <td>90</td>\n",
       "      <td>89</td>\n",
       "      <td>87</td>\n",
       "      <td>3</td>\n",
       "      <td>4</td>\n",
       "      <td>7</td>\n",
       "      <td>0</td>\n",
       "      <td>0</td>\n",
       "      <td>0</td>\n",
       "      <td>8</td>\n",
       "    </tr>\n",
       "    <tr>\n",
       "      <th>11111</th>\n",
       "      <td>76</td>\n",
       "      <td>63</td>\n",
       "      <td>90</td>\n",
       "      <td>66</td>\n",
       "      <td>67</td>\n",
       "      <td>75</td>\n",
       "      <td>87</td>\n",
       "      <td>66</td>\n",
       "      <td>88</td>\n",
       "      <td>4</td>\n",
       "      <td>9</td>\n",
       "      <td>6</td>\n",
       "      <td>1</td>\n",
       "      <td>0</td>\n",
       "      <td>2</td>\n",
       "      <td>19</td>\n",
       "    </tr>\n",
       "    <tr>\n",
       "      <th>3760</th>\n",
       "      <td>63</td>\n",
       "      <td>85</td>\n",
       "      <td>63</td>\n",
       "      <td>63</td>\n",
       "      <td>61</td>\n",
       "      <td>67</td>\n",
       "      <td>86</td>\n",
       "      <td>73</td>\n",
       "      <td>63</td>\n",
       "      <td>9</td>\n",
       "      <td>9</td>\n",
       "      <td>8</td>\n",
       "      <td>1</td>\n",
       "      <td>0</td>\n",
       "      <td>2</td>\n",
       "      <td>8</td>\n",
       "    </tr>\n",
       "  </tbody>\n",
       "</table>\n",
       "</div>"
      ],
      "text/plain": [
       "       Subject1  Subject2  Subject3  Subject4  Subject5  Subject6  Subject7  \\\n",
       "443          71        79        69        89        62        92        62   \n",
       "10301        63        86        66        69        86        91        71   \n",
       "10094        86        90        72        73        91        60        90   \n",
       "10849        86        77        90        88        69        90        83   \n",
       "2279         93        81        72        84        90        93        73   \n",
       "2359         72        83        70        69        61        83        73   \n",
       "19753        70        91        63        82        71        68        73   \n",
       "13394        79        60        79        73        78        87        90   \n",
       "11111        76        63        90        66        67        75        87   \n",
       "3760         63        85        63        63        61        67        86   \n",
       "\n",
       "       Subject8  Subject9  Aptitute Test  Technical Skills  English Skills  \\\n",
       "443          89        79              3                 6               3   \n",
       "10301        69        76              3                 8               9   \n",
       "10094        82        64              9                 8               7   \n",
       "10849        92        80              9                 6               3   \n",
       "2279         85        72              7                 8               8   \n",
       "2359         83        91              2                 7               5   \n",
       "19753        63        60              2                 5               8   \n",
       "13394        89        87              3                 4               7   \n",
       "11111        66        88              4                 9               6   \n",
       "3760         73        63              9                 9               8   \n",
       "\n",
       "       olympiads  reading and writing skills  memory capability score  \\\n",
       "443            1                           0                        0   \n",
       "10301          1                           1                        1   \n",
       "10094          1                           2                        0   \n",
       "10849          1                           0                        2   \n",
       "2279           1                           2                        0   \n",
       "2359           0                           0                        2   \n",
       "19753          0                           2                        2   \n",
       "13394          0                           0                        0   \n",
       "11111          1                           0                        2   \n",
       "3760           1                           0                        2   \n",
       "\n",
       "       Suggested Job Role  \n",
       "443                     5  \n",
       "10301                  23  \n",
       "10094                  24  \n",
       "10849                  24  \n",
       "2279                   11  \n",
       "2359                   20  \n",
       "19753                   3  \n",
       "13394                   8  \n",
       "11111                  19  \n",
       "3760                    8  "
      ]
     },
     "execution_count": 20,
     "metadata": {},
     "output_type": "execute_result"
    }
   ],
   "source": [
    "X = st_data.drop('Placed College / Degree', axis=1)\n",
    "y = st_data['Placed College / Degree']\n",
    "X_train, X_test, y_train, y_test = train_test_split(X, y, test_size=0.20, random_state=101)\n",
    "X_train.head(10)"
   ]
  },
  {
   "cell_type": "code",
   "execution_count": 21,
   "metadata": {},
   "outputs": [],
   "source": [
    "X_train.to_excel('Traning_Testing/X_train.xlsx', index=False)\n",
    "X_test.to_excel('Traning_Testing/X_test.xlsx', index=False)\n",
    "y_train.to_excel('Traning_Testing/y_train.xlsx', index=False)\n",
    "y_test.to_excel('Traning_Testing/y_test.xlsx', index=False)"
   ]
  },
  {
   "cell_type": "markdown",
   "metadata": {},
   "source": [
    "# Train the RF model"
   ]
  },
  {
   "cell_type": "code",
   "execution_count": 22,
   "metadata": {},
   "outputs": [],
   "source": [
    "from sklearn.ensemble import RandomForestClassifier\n",
    "from sklearn.metrics import classification_report,confusion_matrix,accuracy_score"
   ]
  },
  {
   "cell_type": "code",
   "execution_count": 23,
   "metadata": {},
   "outputs": [],
   "source": [
    "rfc = RandomForestClassifier(n_estimators=600)"
   ]
  },
  {
   "cell_type": "code",
   "execution_count": 24,
   "metadata": {},
   "outputs": [],
   "source": [
    "rfc = rfc.fit(X_train,y_train)"
   ]
  },
  {
   "cell_type": "markdown",
   "metadata": {},
   "source": [
    "# Predictions and Evaluation"
   ]
  },
  {
   "cell_type": "code",
   "execution_count": 25,
   "metadata": {},
   "outputs": [],
   "source": [
    "predictions_rf = rfc.predict(X_test)"
   ]
  },
  {
   "cell_type": "code",
   "execution_count": 26,
   "metadata": {},
   "outputs": [
    {
     "name": "stdout",
     "output_type": "stream",
     "text": [
      "Overall accuracy of RF model using test-set is : 99.600000\n"
     ]
    }
   ],
   "source": [
    "acc_rf = accuracy_score(y_true=y_test, y_pred= predictions_rf)\n",
    "print(\"Overall accuracy of RF model using test-set is : %f\" %(acc_rf*100))"
   ]
  },
  {
   "cell_type": "code",
   "execution_count": 27,
   "metadata": {},
   "outputs": [
    {
     "name": "stdout",
     "output_type": "stream",
     "text": [
      "              precision    recall  f1-score   support\n",
      "\n",
      "           0       1.00      1.00      1.00       126\n",
      "           1       1.00      1.00      1.00       127\n",
      "           2       1.00      1.00      1.00       119\n",
      "           3       1.00      1.00      1.00        98\n",
      "           4       1.00      1.00      1.00       116\n",
      "           5       1.00      0.97      0.99       110\n",
      "           6       0.96      1.00      0.98       114\n",
      "           7       1.00      0.98      0.99       122\n",
      "           8       0.99      1.00      1.00       112\n",
      "           9       0.97      1.00      0.98       111\n",
      "          10       1.00      0.96      0.98       113\n",
      "          11       1.00      1.00      1.00       105\n",
      "          12       1.00      1.00      1.00       107\n",
      "          13       1.00      0.99      1.00       104\n",
      "          14       0.99      1.00      1.00       122\n",
      "          15       1.00      1.00      1.00       130\n",
      "          16       1.00      1.00      1.00        93\n",
      "          17       1.00      1.00      1.00       127\n",
      "          18       1.00      1.00      1.00        92\n",
      "          19       1.00      1.00      1.00       106\n",
      "          20       1.00      1.00      1.00       234\n",
      "          21       1.00      1.00      1.00       114\n",
      "          22       0.99      1.00      1.00       119\n",
      "          23       1.00      0.98      0.99       126\n",
      "          24       0.99      1.00      1.00       116\n",
      "          25       0.99      0.99      0.99       123\n",
      "          26       0.98      1.00      0.99       117\n",
      "          27       1.00      0.99      1.00       103\n",
      "          28       1.00      1.00      1.00        89\n",
      "          29       1.00      1.00      1.00       135\n",
      "          30       1.00      1.00      1.00       124\n",
      "          31       1.00      1.00      1.00       103\n",
      "          32       1.00      1.00      1.00       142\n",
      "          33       1.00      1.00      1.00       101\n",
      "\n",
      "   micro avg       1.00      1.00      1.00      4000\n",
      "   macro avg       1.00      1.00      1.00      4000\n",
      "weighted avg       1.00      1.00      1.00      4000\n",
      "\n"
     ]
    }
   ],
   "source": [
    "print(classification_report(y_test,predictions_rf))"
   ]
  },
  {
   "cell_type": "code",
   "execution_count": 28,
   "metadata": {},
   "outputs": [
    {
     "name": "stdout",
     "output_type": "stream",
     "text": [
      "[[126   0   0 ...   0   0   0]\n",
      " [  0 127   0 ...   0   0   0]\n",
      " [  0   0 119 ...   0   0   0]\n",
      " ...\n",
      " [  0   0   0 ... 103   0   0]\n",
      " [  0   0   0 ...   0 142   0]\n",
      " [  0   0   0 ...   0   0 101]]\n"
     ]
    }
   ],
   "source": [
    "print(confusion_matrix(y_test,predictions_rf))"
   ]
  },
  {
   "cell_type": "markdown",
   "metadata": {},
   "source": [
    "# Train DT model"
   ]
  },
  {
   "cell_type": "code",
   "execution_count": 32,
   "metadata": {},
   "outputs": [],
   "source": [
    "from sklearn.tree import DecisionTreeClassifier\n",
    "from sklearn.metrics import classification_report,confusion_matrix,accuracy_score"
   ]
  },
  {
   "cell_type": "code",
   "execution_count": 33,
   "metadata": {},
   "outputs": [],
   "source": [
    "dt = DecisionTreeClassifier()"
   ]
  },
  {
   "cell_type": "code",
   "execution_count": 34,
   "metadata": {},
   "outputs": [],
   "source": [
    "dt = dt.fit(X_train,y_train)"
   ]
  },
  {
   "cell_type": "markdown",
   "metadata": {},
   "source": [
    "# Predictions and Evaluation"
   ]
  },
  {
   "cell_type": "code",
   "execution_count": 35,
   "metadata": {},
   "outputs": [],
   "source": [
    "predictions_dt = dt.predict(X_test)"
   ]
  },
  {
   "cell_type": "code",
   "execution_count": 36,
   "metadata": {},
   "outputs": [
    {
     "name": "stdout",
     "output_type": "stream",
     "text": [
      "Overall accuracy of DT model using test-set is : 100.000000\n"
     ]
    }
   ],
   "source": [
    "acc_dt = accuracy_score(y_true=y_test, y_pred= predictions_dt)\n",
    "print(\"Overall accuracy of DT model using test-set is : %f\" %(acc_dt*100))"
   ]
  },
  {
   "cell_type": "code",
   "execution_count": 37,
   "metadata": {},
   "outputs": [
    {
     "name": "stdout",
     "output_type": "stream",
     "text": [
      "              precision    recall  f1-score   support\n",
      "\n",
      "           0       1.00      1.00      1.00       126\n",
      "           1       1.00      1.00      1.00       127\n",
      "           2       1.00      1.00      1.00       119\n",
      "           3       1.00      1.00      1.00        98\n",
      "           4       1.00      1.00      1.00       116\n",
      "           5       1.00      1.00      1.00       110\n",
      "           6       1.00      1.00      1.00       114\n",
      "           7       1.00      1.00      1.00       122\n",
      "           8       1.00      1.00      1.00       112\n",
      "           9       1.00      1.00      1.00       111\n",
      "          10       1.00      1.00      1.00       113\n",
      "          11       1.00      1.00      1.00       105\n",
      "          12       1.00      1.00      1.00       107\n",
      "          13       1.00      1.00      1.00       104\n",
      "          14       1.00      1.00      1.00       122\n",
      "          15       1.00      1.00      1.00       130\n",
      "          16       1.00      1.00      1.00        93\n",
      "          17       1.00      1.00      1.00       127\n",
      "          18       1.00      1.00      1.00        92\n",
      "          19       1.00      1.00      1.00       106\n",
      "          20       1.00      1.00      1.00       234\n",
      "          21       1.00      1.00      1.00       114\n",
      "          22       1.00      1.00      1.00       119\n",
      "          23       1.00      1.00      1.00       126\n",
      "          24       1.00      1.00      1.00       116\n",
      "          25       1.00      1.00      1.00       123\n",
      "          26       1.00      1.00      1.00       117\n",
      "          27       1.00      1.00      1.00       103\n",
      "          28       1.00      1.00      1.00        89\n",
      "          29       1.00      1.00      1.00       135\n",
      "          30       1.00      1.00      1.00       124\n",
      "          31       1.00      1.00      1.00       103\n",
      "          32       1.00      1.00      1.00       142\n",
      "          33       1.00      1.00      1.00       101\n",
      "\n",
      "   micro avg       1.00      1.00      1.00      4000\n",
      "   macro avg       1.00      1.00      1.00      4000\n",
      "weighted avg       1.00      1.00      1.00      4000\n",
      "\n"
     ]
    }
   ],
   "source": [
    "print(classification_report(y_test,predictions_dt))"
   ]
  },
  {
   "cell_type": "code",
   "execution_count": 38,
   "metadata": {},
   "outputs": [
    {
     "name": "stdout",
     "output_type": "stream",
     "text": [
      "[[126   0   0 ...   0   0   0]\n",
      " [  0 127   0 ...   0   0   0]\n",
      " [  0   0 119 ...   0   0   0]\n",
      " ...\n",
      " [  0   0   0 ... 103   0   0]\n",
      " [  0   0   0 ...   0 142   0]\n",
      " [  0   0   0 ...   0   0 101]]\n"
     ]
    }
   ],
   "source": [
    "print(confusion_matrix(y_test,predictions_dt))"
   ]
  },
  {
   "cell_type": "markdown",
   "metadata": {},
   "source": [
    "# Thank You.."
   ]
  }
 ],
 "metadata": {
  "kernelspec": {
   "display_name": "Python 3",
   "language": "python",
   "name": "python3"
  },
  "language_info": {
   "codemirror_mode": {
    "name": "ipython",
    "version": 3
   },
   "file_extension": ".py",
   "mimetype": "text/x-python",
   "name": "python",
   "nbconvert_exporter": "python",
   "pygments_lexer": "ipython3",
   "version": "3.6.6"
  }
 },
 "nbformat": 4,
 "nbformat_minor": 2
}
